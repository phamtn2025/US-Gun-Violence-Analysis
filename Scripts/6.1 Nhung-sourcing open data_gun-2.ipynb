{
 "cells": [
  {
   "cell_type": "markdown",
   "id": "3aa4c6f1-b784-4d15-ba23-280550cbf836",
   "metadata": {},
   "source": [
    "# Importing libraries"
   ]
  },
  {
   "cell_type": "code",
   "execution_count": 1,
   "id": "7818f4d6-e1e5-4ddb-8665-2bc22f2d5f94",
   "metadata": {},
   "outputs": [],
   "source": [
    "# import libraries\n",
    "import pandas as pd\n",
    "import numpy as np\n",
    "import os\n",
    "import re"
   ]
  },
  {
   "cell_type": "markdown",
   "id": "ccad79af-99f8-4110-ae73-1865a22863c2",
   "metadata": {},
   "source": [
    "# Importing data"
   ]
  },
  {
   "cell_type": "code",
   "execution_count": 3,
   "id": "3c82d1f8-5c3c-40fd-b2e8-890e3d63dad4",
   "metadata": {},
   "outputs": [],
   "source": [
    "# Define path\n",
    "file_path = r'/Users/nhungphamthi/Documents/data analytis/Achievement 6'\n"
   ]
  },
  {
   "cell_type": "code",
   "execution_count": 5,
   "id": "d8291088-7e83-43fb-b18c-fa280b38580f",
   "metadata": {},
   "outputs": [],
   "source": [
    "# Load the data into a DataFrame\n",
    "df = pd.read_csv(os.path.join(file_path, 'gunviolence.csv'), index_col = False)"
   ]
  },
  {
   "cell_type": "code",
   "execution_count": 11,
   "id": "f94abd73-f120-4e8e-a165-7ed20ff4de7e",
   "metadata": {},
   "outputs": [
    {
     "name": "stdout",
     "output_type": "stream",
     "text": [
      "<class 'pandas.core.frame.DataFrame'>\n",
      "RangeIndex: 239677 entries, 0 to 239676\n",
      "Data columns (total 29 columns):\n",
      " #   Column                       Non-Null Count   Dtype  \n",
      "---  ------                       --------------   -----  \n",
      " 0   incident_id                  239677 non-null  int64  \n",
      " 1   date                         239677 non-null  object \n",
      " 2   state                        239677 non-null  object \n",
      " 3   city_or_county               239677 non-null  object \n",
      " 4   address                      223180 non-null  object \n",
      " 5   n_killed                     239677 non-null  int64  \n",
      " 6   n_injured                    239677 non-null  int64  \n",
      " 7   incident_url                 239677 non-null  object \n",
      " 8   source_url                   239209 non-null  object \n",
      " 9   incident_url_fields_missing  239677 non-null  bool   \n",
      " 10  congressional_district       227733 non-null  float64\n",
      " 11  gun_stolen                   140179 non-null  object \n",
      " 12  gun_type                     140226 non-null  object \n",
      " 13  incident_characteristics     239351 non-null  object \n",
      " 14  latitude                     231754 non-null  float64\n",
      " 15  location_description         42089 non-null   object \n",
      " 16  longitude                    231754 non-null  float64\n",
      " 17  n_guns_involved              140226 non-null  float64\n",
      " 18  notes                        158660 non-null  object \n",
      " 19  participant_age              147379 non-null  object \n",
      " 20  participant_age_group        197558 non-null  object \n",
      " 21  participant_gender           203315 non-null  object \n",
      " 22  participant_name             117424 non-null  object \n",
      " 23  participant_relationship     15774 non-null   object \n",
      " 24  participant_status           212051 non-null  object \n",
      " 25  participant_type             214814 non-null  object \n",
      " 26  sources                      239068 non-null  object \n",
      " 27  state_house_district         200905 non-null  float64\n",
      " 28  state_senate_district        207342 non-null  float64\n",
      "dtypes: bool(1), float64(6), int64(3), object(19)\n",
      "memory usage: 51.4+ MB\n"
     ]
    }
   ],
   "source": [
    "df.info()"
   ]
  },
  {
   "cell_type": "code",
   "execution_count": 13,
   "id": "0d34e43a-8091-43ab-be40-f8b089110937",
   "metadata": {},
   "outputs": [
    {
     "data": {
      "text/plain": [
       "incident_id                         0\n",
       "date                                0\n",
       "state                               0\n",
       "city_or_county                      0\n",
       "address                         16497\n",
       "n_killed                            0\n",
       "n_injured                           0\n",
       "incident_url                        0\n",
       "source_url                        468\n",
       "incident_url_fields_missing         0\n",
       "congressional_district          11944\n",
       "gun_stolen                      99498\n",
       "gun_type                        99451\n",
       "incident_characteristics          326\n",
       "latitude                         7923\n",
       "location_description           197588\n",
       "longitude                        7923\n",
       "n_guns_involved                 99451\n",
       "notes                           81017\n",
       "participant_age                 92298\n",
       "participant_age_group           42119\n",
       "participant_gender              36362\n",
       "participant_name               122253\n",
       "participant_relationship       223903\n",
       "participant_status              27626\n",
       "participant_type                24863\n",
       "sources                           609\n",
       "state_house_district            38772\n",
       "state_senate_district           32335\n",
       "dtype: int64"
      ]
     },
     "execution_count": 13,
     "metadata": {},
     "output_type": "execute_result"
    }
   ],
   "source": [
    "# missing values\n",
    "df.isnull().sum()"
   ]
  },
  {
   "cell_type": "code",
   "execution_count": 15,
   "id": "c2dde99c-defb-4e41-ae88-2f821ba70123",
   "metadata": {},
   "outputs": [],
   "source": [
    "# Drop columns with over 80% missing data\n",
    "columns_to_drop = ['participant_relationship', 'location_description', 'gun_stolen','gun_type','participant_name', 'incident_url', 'source_url', 'sources', 'incident_characteristics', 'notes', 'incident_url_fields_missing' , 'location_description', 'latitude', 'longitude', 'city_or_county', 'congressional_district' ,'state_house_district','state_senate_district','address']\n",
    "df_cleaned = df.drop(columns=columns_to_drop)"
   ]
  },
  {
   "cell_type": "code",
   "execution_count": 17,
   "id": "a489cdc8",
   "metadata": {},
   "outputs": [
    {
     "data": {
      "text/plain": [
       "incident_id                  0\n",
       "date                         0\n",
       "state                        0\n",
       "n_killed                     0\n",
       "n_injured                    0\n",
       "n_guns_involved          99451\n",
       "participant_age          92298\n",
       "participant_age_group    42119\n",
       "participant_gender       36362\n",
       "participant_status       27626\n",
       "participant_type         24863\n",
       "dtype: int64"
      ]
     },
     "execution_count": 17,
     "metadata": {},
     "output_type": "execute_result"
    }
   ],
   "source": [
    "# missing values\n",
    "df_cleaned.isnull().sum()"
   ]
  },
  {
   "cell_type": "code",
   "execution_count": 19,
   "id": "9fa2d914",
   "metadata": {},
   "outputs": [],
   "source": [
    "# missing values in n_guns_involved means zero gun were involved. so we have to fill the emplty cells with zeros\n",
    "df_cleaned['n_guns_involved'] = df_cleaned['n_guns_involved'].fillna(0)"
   ]
  },
  {
   "cell_type": "code",
   "execution_count": 21,
   "id": "5dc8e103",
   "metadata": {},
   "outputs": [
    {
     "data": {
      "text/plain": [
       "incident_id                  0\n",
       "date                         0\n",
       "state                        0\n",
       "n_killed                     0\n",
       "n_injured                    0\n",
       "n_guns_involved              0\n",
       "participant_age          92298\n",
       "participant_age_group    42119\n",
       "participant_gender       36362\n",
       "participant_status       27626\n",
       "participant_type         24863\n",
       "dtype: int64"
      ]
     },
     "execution_count": 21,
     "metadata": {},
     "output_type": "execute_result"
    }
   ],
   "source": [
    "# missing values\n",
    "df_cleaned.isnull().sum()"
   ]
  },
  {
   "cell_type": "code",
   "execution_count": 23,
   "id": "bd90556a",
   "metadata": {},
   "outputs": [
    {
     "data": {
      "text/html": [
       "<div>\n",
       "<style scoped>\n",
       "    .dataframe tbody tr th:only-of-type {\n",
       "        vertical-align: middle;\n",
       "    }\n",
       "\n",
       "    .dataframe tbody tr th {\n",
       "        vertical-align: top;\n",
       "    }\n",
       "\n",
       "    .dataframe thead th {\n",
       "        text-align: right;\n",
       "    }\n",
       "</style>\n",
       "<table border=\"1\" class=\"dataframe\">\n",
       "  <thead>\n",
       "    <tr style=\"text-align: right;\">\n",
       "      <th></th>\n",
       "      <th>incident_id</th>\n",
       "      <th>date</th>\n",
       "      <th>state</th>\n",
       "      <th>n_killed</th>\n",
       "      <th>n_injured</th>\n",
       "      <th>n_guns_involved</th>\n",
       "      <th>participant_age</th>\n",
       "      <th>participant_age_group</th>\n",
       "      <th>participant_gender</th>\n",
       "      <th>participant_status</th>\n",
       "      <th>participant_type</th>\n",
       "    </tr>\n",
       "  </thead>\n",
       "  <tbody>\n",
       "    <tr>\n",
       "      <th>0</th>\n",
       "      <td>461105</td>\n",
       "      <td>2013-01-01</td>\n",
       "      <td>Pennsylvania</td>\n",
       "      <td>0</td>\n",
       "      <td>4</td>\n",
       "      <td>0.0</td>\n",
       "      <td>0::20</td>\n",
       "      <td>0::Adult 18+||1::Adult 18+||2::Adult 18+||3::A...</td>\n",
       "      <td>0::Male||1::Male||3::Male||4::Female</td>\n",
       "      <td>0::Arrested||1::Injured||2::Injured||3::Injure...</td>\n",
       "      <td>0::Victim||1::Victim||2::Victim||3::Victim||4:...</td>\n",
       "    </tr>\n",
       "    <tr>\n",
       "      <th>1</th>\n",
       "      <td>460726</td>\n",
       "      <td>2013-01-01</td>\n",
       "      <td>California</td>\n",
       "      <td>1</td>\n",
       "      <td>3</td>\n",
       "      <td>0.0</td>\n",
       "      <td>0::20</td>\n",
       "      <td>0::Adult 18+||1::Adult 18+||2::Adult 18+||3::A...</td>\n",
       "      <td>0::Male</td>\n",
       "      <td>0::Killed||1::Injured||2::Injured||3::Injured</td>\n",
       "      <td>0::Victim||1::Victim||2::Victim||3::Victim||4:...</td>\n",
       "    </tr>\n",
       "    <tr>\n",
       "      <th>2</th>\n",
       "      <td>478855</td>\n",
       "      <td>2013-01-01</td>\n",
       "      <td>Ohio</td>\n",
       "      <td>1</td>\n",
       "      <td>3</td>\n",
       "      <td>2.0</td>\n",
       "      <td>0::25||1::31||2::33||3::34||4::33</td>\n",
       "      <td>0::Adult 18+||1::Adult 18+||2::Adult 18+||3::A...</td>\n",
       "      <td>0::Male||1::Male||2::Male||3::Male||4::Male</td>\n",
       "      <td>0::Injured, Unharmed, Arrested||1::Unharmed, A...</td>\n",
       "      <td>0::Subject-Suspect||1::Subject-Suspect||2::Vic...</td>\n",
       "    </tr>\n",
       "    <tr>\n",
       "      <th>3</th>\n",
       "      <td>478925</td>\n",
       "      <td>2013-01-05</td>\n",
       "      <td>Colorado</td>\n",
       "      <td>4</td>\n",
       "      <td>0</td>\n",
       "      <td>0.0</td>\n",
       "      <td>0::29||1::33||2::56||3::33</td>\n",
       "      <td>0::Adult 18+||1::Adult 18+||2::Adult 18+||3::A...</td>\n",
       "      <td>0::Female||1::Male||2::Male||3::Male</td>\n",
       "      <td>0::Killed||1::Killed||2::Killed||3::Killed</td>\n",
       "      <td>0::Victim||1::Victim||2::Victim||3::Subject-Su...</td>\n",
       "    </tr>\n",
       "    <tr>\n",
       "      <th>4</th>\n",
       "      <td>478959</td>\n",
       "      <td>2013-01-07</td>\n",
       "      <td>North Carolina</td>\n",
       "      <td>2</td>\n",
       "      <td>2</td>\n",
       "      <td>2.0</td>\n",
       "      <td>0::18||1::46||2::14||3::47</td>\n",
       "      <td>0::Adult 18+||1::Adult 18+||2::Teen 12-17||3::...</td>\n",
       "      <td>0::Female||1::Male||2::Male||3::Female</td>\n",
       "      <td>0::Injured||1::Injured||2::Killed||3::Killed</td>\n",
       "      <td>0::Victim||1::Victim||2::Victim||3::Subject-Su...</td>\n",
       "    </tr>\n",
       "  </tbody>\n",
       "</table>\n",
       "</div>"
      ],
      "text/plain": [
       "   incident_id        date           state  n_killed  n_injured  \\\n",
       "0       461105  2013-01-01    Pennsylvania         0          4   \n",
       "1       460726  2013-01-01      California         1          3   \n",
       "2       478855  2013-01-01            Ohio         1          3   \n",
       "3       478925  2013-01-05        Colorado         4          0   \n",
       "4       478959  2013-01-07  North Carolina         2          2   \n",
       "\n",
       "   n_guns_involved                    participant_age  \\\n",
       "0              0.0                              0::20   \n",
       "1              0.0                              0::20   \n",
       "2              2.0  0::25||1::31||2::33||3::34||4::33   \n",
       "3              0.0         0::29||1::33||2::56||3::33   \n",
       "4              2.0         0::18||1::46||2::14||3::47   \n",
       "\n",
       "                               participant_age_group  \\\n",
       "0  0::Adult 18+||1::Adult 18+||2::Adult 18+||3::A...   \n",
       "1  0::Adult 18+||1::Adult 18+||2::Adult 18+||3::A...   \n",
       "2  0::Adult 18+||1::Adult 18+||2::Adult 18+||3::A...   \n",
       "3  0::Adult 18+||1::Adult 18+||2::Adult 18+||3::A...   \n",
       "4  0::Adult 18+||1::Adult 18+||2::Teen 12-17||3::...   \n",
       "\n",
       "                            participant_gender  \\\n",
       "0         0::Male||1::Male||3::Male||4::Female   \n",
       "1                                      0::Male   \n",
       "2  0::Male||1::Male||2::Male||3::Male||4::Male   \n",
       "3         0::Female||1::Male||2::Male||3::Male   \n",
       "4       0::Female||1::Male||2::Male||3::Female   \n",
       "\n",
       "                                  participant_status  \\\n",
       "0  0::Arrested||1::Injured||2::Injured||3::Injure...   \n",
       "1      0::Killed||1::Injured||2::Injured||3::Injured   \n",
       "2  0::Injured, Unharmed, Arrested||1::Unharmed, A...   \n",
       "3         0::Killed||1::Killed||2::Killed||3::Killed   \n",
       "4       0::Injured||1::Injured||2::Killed||3::Killed   \n",
       "\n",
       "                                    participant_type  \n",
       "0  0::Victim||1::Victim||2::Victim||3::Victim||4:...  \n",
       "1  0::Victim||1::Victim||2::Victim||3::Victim||4:...  \n",
       "2  0::Subject-Suspect||1::Subject-Suspect||2::Vic...  \n",
       "3  0::Victim||1::Victim||2::Victim||3::Subject-Su...  \n",
       "4  0::Victim||1::Victim||2::Victim||3::Subject-Su...  "
      ]
     },
     "execution_count": 23,
     "metadata": {},
     "output_type": "execute_result"
    }
   ],
   "source": [
    "df_cleaned.head()"
   ]
  },
  {
   "cell_type": "code",
   "execution_count": 29,
   "id": "53d624d8-1838-4d24-a284-bb382b3df306",
   "metadata": {},
   "outputs": [],
   "source": [
    "# Fill missing values for categorical data with \"Unknown\"\n",
    "categorical_fill = ['participant_age_group', 'participant_gender', 'participant_status', 'participant_type', 'participant_age' ]\n",
    "for col in categorical_fill:\n",
    "    df_cleaned[col] = df_cleaned[col].fillna('Unknown')"
   ]
  },
  {
   "cell_type": "code",
   "execution_count": 31,
   "id": "5c4c7678-8774-48ac-9b68-aa6c28af1b82",
   "metadata": {},
   "outputs": [
    {
     "data": {
      "text/plain": [
       "incident_id              0\n",
       "date                     0\n",
       "state                    0\n",
       "n_killed                 0\n",
       "n_injured                0\n",
       "n_guns_involved          0\n",
       "participant_age          0\n",
       "participant_age_group    0\n",
       "participant_gender       0\n",
       "participant_status       0\n",
       "participant_type         0\n",
       "dtype: int64"
      ]
     },
     "execution_count": 31,
     "metadata": {},
     "output_type": "execute_result"
    }
   ],
   "source": [
    "# Verify cleaning results\n",
    "df_cleaned.isnull().sum()"
   ]
  },
  {
   "cell_type": "code",
   "execution_count": 33,
   "id": "983dae80-897a-4aa7-b297-4ebf33e7efa6",
   "metadata": {},
   "outputs": [
    {
     "data": {
      "text/html": [
       "<div>\n",
       "<style scoped>\n",
       "    .dataframe tbody tr th:only-of-type {\n",
       "        vertical-align: middle;\n",
       "    }\n",
       "\n",
       "    .dataframe tbody tr th {\n",
       "        vertical-align: top;\n",
       "    }\n",
       "\n",
       "    .dataframe thead th {\n",
       "        text-align: right;\n",
       "    }\n",
       "</style>\n",
       "<table border=\"1\" class=\"dataframe\">\n",
       "  <thead>\n",
       "    <tr style=\"text-align: right;\">\n",
       "      <th></th>\n",
       "      <th>incident_id</th>\n",
       "      <th>date</th>\n",
       "      <th>state</th>\n",
       "      <th>n_killed</th>\n",
       "      <th>n_injured</th>\n",
       "      <th>n_guns_involved</th>\n",
       "      <th>participant_age</th>\n",
       "      <th>participant_age_group</th>\n",
       "      <th>participant_gender</th>\n",
       "      <th>participant_status</th>\n",
       "      <th>participant_type</th>\n",
       "    </tr>\n",
       "  </thead>\n",
       "  <tbody>\n",
       "  </tbody>\n",
       "</table>\n",
       "</div>"
      ],
      "text/plain": [
       "Empty DataFrame\n",
       "Columns: [incident_id, date, state, n_killed, n_injured, n_guns_involved, participant_age, participant_age_group, participant_gender, participant_status, participant_type]\n",
       "Index: []"
      ]
     },
     "execution_count": 33,
     "metadata": {},
     "output_type": "execute_result"
    }
   ],
   "source": [
    "# duplicates in the df_ords dataframe\n",
    "df_cleaned[df_cleaned.duplicated()]"
   ]
  },
  {
   "cell_type": "markdown",
   "id": "75d981ef-cc0c-484c-95cd-8e8db9da1659",
   "metadata": {},
   "source": [
    "### No duplicate"
   ]
  },
  {
   "cell_type": "code",
   "execution_count": 35,
   "id": "f4a6cd08",
   "metadata": {
    "scrolled": true
   },
   "outputs": [
    {
     "data": {
      "text/html": [
       "<div>\n",
       "<style scoped>\n",
       "    .dataframe tbody tr th:only-of-type {\n",
       "        vertical-align: middle;\n",
       "    }\n",
       "\n",
       "    .dataframe tbody tr th {\n",
       "        vertical-align: top;\n",
       "    }\n",
       "\n",
       "    .dataframe thead th {\n",
       "        text-align: right;\n",
       "    }\n",
       "</style>\n",
       "<table border=\"1\" class=\"dataframe\">\n",
       "  <thead>\n",
       "    <tr style=\"text-align: right;\">\n",
       "      <th></th>\n",
       "      <th>incident_id</th>\n",
       "      <th>date</th>\n",
       "      <th>state</th>\n",
       "      <th>n_killed</th>\n",
       "      <th>n_injured</th>\n",
       "      <th>n_guns_involved</th>\n",
       "      <th>participant_age</th>\n",
       "      <th>participant_age_group</th>\n",
       "      <th>participant_gender</th>\n",
       "      <th>participant_status</th>\n",
       "      <th>participant_type</th>\n",
       "    </tr>\n",
       "  </thead>\n",
       "  <tbody>\n",
       "    <tr>\n",
       "      <th>0</th>\n",
       "      <td>461105</td>\n",
       "      <td>2013-01-01</td>\n",
       "      <td>Pennsylvania</td>\n",
       "      <td>0</td>\n",
       "      <td>4</td>\n",
       "      <td>0.0</td>\n",
       "      <td>0::20</td>\n",
       "      <td>0::Adult 18+||1::Adult 18+||2::Adult 18+||3::A...</td>\n",
       "      <td>0::Male||1::Male||3::Male||4::Female</td>\n",
       "      <td>0::Arrested||1::Injured||2::Injured||3::Injure...</td>\n",
       "      <td>0::Victim||1::Victim||2::Victim||3::Victim||4:...</td>\n",
       "    </tr>\n",
       "    <tr>\n",
       "      <th>1</th>\n",
       "      <td>460726</td>\n",
       "      <td>2013-01-01</td>\n",
       "      <td>California</td>\n",
       "      <td>1</td>\n",
       "      <td>3</td>\n",
       "      <td>0.0</td>\n",
       "      <td>0::20</td>\n",
       "      <td>0::Adult 18+||1::Adult 18+||2::Adult 18+||3::A...</td>\n",
       "      <td>0::Male</td>\n",
       "      <td>0::Killed||1::Injured||2::Injured||3::Injured</td>\n",
       "      <td>0::Victim||1::Victim||2::Victim||3::Victim||4:...</td>\n",
       "    </tr>\n",
       "    <tr>\n",
       "      <th>2</th>\n",
       "      <td>478855</td>\n",
       "      <td>2013-01-01</td>\n",
       "      <td>Ohio</td>\n",
       "      <td>1</td>\n",
       "      <td>3</td>\n",
       "      <td>2.0</td>\n",
       "      <td>0::25||1::31||2::33||3::34||4::33</td>\n",
       "      <td>0::Adult 18+||1::Adult 18+||2::Adult 18+||3::A...</td>\n",
       "      <td>0::Male||1::Male||2::Male||3::Male||4::Male</td>\n",
       "      <td>0::Injured, Unharmed, Arrested||1::Unharmed, A...</td>\n",
       "      <td>0::Subject-Suspect||1::Subject-Suspect||2::Vic...</td>\n",
       "    </tr>\n",
       "    <tr>\n",
       "      <th>3</th>\n",
       "      <td>478925</td>\n",
       "      <td>2013-01-05</td>\n",
       "      <td>Colorado</td>\n",
       "      <td>4</td>\n",
       "      <td>0</td>\n",
       "      <td>0.0</td>\n",
       "      <td>0::29||1::33||2::56||3::33</td>\n",
       "      <td>0::Adult 18+||1::Adult 18+||2::Adult 18+||3::A...</td>\n",
       "      <td>0::Female||1::Male||2::Male||3::Male</td>\n",
       "      <td>0::Killed||1::Killed||2::Killed||3::Killed</td>\n",
       "      <td>0::Victim||1::Victim||2::Victim||3::Subject-Su...</td>\n",
       "    </tr>\n",
       "    <tr>\n",
       "      <th>4</th>\n",
       "      <td>478959</td>\n",
       "      <td>2013-01-07</td>\n",
       "      <td>North Carolina</td>\n",
       "      <td>2</td>\n",
       "      <td>2</td>\n",
       "      <td>2.0</td>\n",
       "      <td>0::18||1::46||2::14||3::47</td>\n",
       "      <td>0::Adult 18+||1::Adult 18+||2::Teen 12-17||3::...</td>\n",
       "      <td>0::Female||1::Male||2::Male||3::Female</td>\n",
       "      <td>0::Injured||1::Injured||2::Killed||3::Killed</td>\n",
       "      <td>0::Victim||1::Victim||2::Victim||3::Subject-Su...</td>\n",
       "    </tr>\n",
       "  </tbody>\n",
       "</table>\n",
       "</div>"
      ],
      "text/plain": [
       "   incident_id        date           state  n_killed  n_injured  \\\n",
       "0       461105  2013-01-01    Pennsylvania         0          4   \n",
       "1       460726  2013-01-01      California         1          3   \n",
       "2       478855  2013-01-01            Ohio         1          3   \n",
       "3       478925  2013-01-05        Colorado         4          0   \n",
       "4       478959  2013-01-07  North Carolina         2          2   \n",
       "\n",
       "   n_guns_involved                    participant_age  \\\n",
       "0              0.0                              0::20   \n",
       "1              0.0                              0::20   \n",
       "2              2.0  0::25||1::31||2::33||3::34||4::33   \n",
       "3              0.0         0::29||1::33||2::56||3::33   \n",
       "4              2.0         0::18||1::46||2::14||3::47   \n",
       "\n",
       "                               participant_age_group  \\\n",
       "0  0::Adult 18+||1::Adult 18+||2::Adult 18+||3::A...   \n",
       "1  0::Adult 18+||1::Adult 18+||2::Adult 18+||3::A...   \n",
       "2  0::Adult 18+||1::Adult 18+||2::Adult 18+||3::A...   \n",
       "3  0::Adult 18+||1::Adult 18+||2::Adult 18+||3::A...   \n",
       "4  0::Adult 18+||1::Adult 18+||2::Teen 12-17||3::...   \n",
       "\n",
       "                            participant_gender  \\\n",
       "0         0::Male||1::Male||3::Male||4::Female   \n",
       "1                                      0::Male   \n",
       "2  0::Male||1::Male||2::Male||3::Male||4::Male   \n",
       "3         0::Female||1::Male||2::Male||3::Male   \n",
       "4       0::Female||1::Male||2::Male||3::Female   \n",
       "\n",
       "                                  participant_status  \\\n",
       "0  0::Arrested||1::Injured||2::Injured||3::Injure...   \n",
       "1      0::Killed||1::Injured||2::Injured||3::Injured   \n",
       "2  0::Injured, Unharmed, Arrested||1::Unharmed, A...   \n",
       "3         0::Killed||1::Killed||2::Killed||3::Killed   \n",
       "4       0::Injured||1::Injured||2::Killed||3::Killed   \n",
       "\n",
       "                                    participant_type  \n",
       "0  0::Victim||1::Victim||2::Victim||3::Victim||4:...  \n",
       "1  0::Victim||1::Victim||2::Victim||3::Victim||4:...  \n",
       "2  0::Subject-Suspect||1::Subject-Suspect||2::Vic...  \n",
       "3  0::Victim||1::Victim||2::Victim||3::Subject-Su...  \n",
       "4  0::Victim||1::Victim||2::Victim||3::Subject-Su...  "
      ]
     },
     "execution_count": 35,
     "metadata": {},
     "output_type": "execute_result"
    }
   ],
   "source": [
    "df_cleaned.head()"
   ]
  },
  {
   "cell_type": "code",
   "execution_count": 38,
   "id": "73e8cc95",
   "metadata": {},
   "outputs": [
    {
     "data": {
      "text/plain": [
       "incident_id                int64\n",
       "date                      object\n",
       "state                     object\n",
       "n_killed                   int64\n",
       "n_injured                  int64\n",
       "n_guns_involved          float64\n",
       "participant_age           object\n",
       "participant_age_group     object\n",
       "participant_gender        object\n",
       "participant_status        object\n",
       "participant_type          object\n",
       "dtype: object"
      ]
     },
     "execution_count": 38,
     "metadata": {},
     "output_type": "execute_result"
    }
   ],
   "source": [
    "df_cleaned.dtypes"
   ]
  },
  {
   "cell_type": "code",
   "execution_count": 40,
   "id": "a1ac2497-7a78-4d0d-8d87-0bb9eceec40e",
   "metadata": {},
   "outputs": [],
   "source": [
    "# Convert the 'date' column to datetime format\n",
    "df_cleaned['date'] = pd.to_datetime(df_cleaned['date'])"
   ]
  },
  {
   "cell_type": "code",
   "execution_count": 42,
   "id": "7a25f7a4-f89b-443b-9508-346719ebe421",
   "metadata": {},
   "outputs": [
    {
     "data": {
      "text/plain": [
       "0   2013-01-01\n",
       "1   2013-01-01\n",
       "2   2013-01-01\n",
       "3   2013-01-05\n",
       "4   2013-01-07\n",
       "Name: date, dtype: datetime64[ns]"
      ]
     },
     "execution_count": 42,
     "metadata": {},
     "output_type": "execute_result"
    }
   ],
   "source": [
    "# Verify the conversion\n",
    "df_cleaned['date'].head()"
   ]
  },
  {
   "cell_type": "code",
   "execution_count": 44,
   "id": "1a743b29-7805-46a5-a565-9cf5fb097627",
   "metadata": {},
   "outputs": [
    {
     "data": {
      "text/plain": [
       "incident_id              0\n",
       "date                     0\n",
       "state                    0\n",
       "n_killed                 0\n",
       "n_injured                0\n",
       "n_guns_involved          0\n",
       "participant_age          0\n",
       "participant_age_group    0\n",
       "participant_gender       0\n",
       "participant_status       0\n",
       "participant_type         0\n",
       "dtype: int64"
      ]
     },
     "execution_count": 44,
     "metadata": {},
     "output_type": "execute_result"
    }
   ],
   "source": [
    "df_cleaned.isnull().sum()"
   ]
  },
  {
   "cell_type": "code",
   "execution_count": 46,
   "id": "87041d63",
   "metadata": {},
   "outputs": [],
   "source": [
    "unknown_rows = df_cleaned[df_cleaned['participant_type'] == 'Unknown']"
   ]
  },
  {
   "cell_type": "code",
   "execution_count": 48,
   "id": "7ba9769a",
   "metadata": {},
   "outputs": [
    {
     "name": "stdout",
     "output_type": "stream",
     "text": [
      "[0]\n"
     ]
    }
   ],
   "source": [
    "unique_values = unknown_rows['n_injured'].unique()\n",
    "\n",
    "print(unique_values)"
   ]
  },
  {
   "cell_type": "code",
   "execution_count": 50,
   "id": "722a727f",
   "metadata": {},
   "outputs": [],
   "source": [
    "def count_occurrences(s, pattern):\n",
    "    return len(re.findall(pattern, s))\n",
    "\n",
    "# Add new columns for counting occurrences of \"Victim\" and \"Subject-Suspect\"\n",
    "df_cleaned['n_victims'] = df_cleaned['participant_type'].apply(lambda x: count_occurrences(x, r\"Victim\"))\n",
    "df_cleaned['n_suspects'] = df_cleaned['participant_type'].apply(lambda x: count_occurrences(x, r\"Subject-Suspect\"))"
   ]
  },
  {
   "cell_type": "code",
   "execution_count": 52,
   "id": "32a6c190",
   "metadata": {},
   "outputs": [],
   "source": [
    "def count_occurrences(s, pattern):\n",
    "    return len(re.findall(pattern, s))\n",
    "\n",
    "# Add new columns for counting occurrences of \"Victim\" and \"Subject-Suspect\"\n",
    "df_cleaned['n_unharmed'] = df_cleaned['participant_status'].apply(lambda x: count_occurrences(x, r\"Unharmed\"))\n",
    "df_cleaned['n_arrested'] = df_cleaned['participant_status'].apply(lambda x: count_occurrences(x, r\"Arrested\"))"
   ]
  },
  {
   "cell_type": "code",
   "execution_count": 54,
   "id": "bc1efb61",
   "metadata": {},
   "outputs": [
    {
     "data": {
      "text/plain": [
       "incident_id              0\n",
       "date                     0\n",
       "state                    0\n",
       "n_killed                 0\n",
       "n_injured                0\n",
       "n_guns_involved          0\n",
       "participant_age          0\n",
       "participant_age_group    0\n",
       "participant_gender       0\n",
       "participant_status       0\n",
       "participant_type         0\n",
       "n_victims                0\n",
       "n_suspects               0\n",
       "n_unharmed               0\n",
       "n_arrested               0\n",
       "dtype: int64"
      ]
     },
     "execution_count": 54,
     "metadata": {},
     "output_type": "execute_result"
    }
   ],
   "source": [
    "df_cleaned.isnull().sum()"
   ]
  },
  {
   "cell_type": "code",
   "execution_count": 56,
   "id": "9c7f1812",
   "metadata": {},
   "outputs": [],
   "source": [
    "df_cleaned.drop(columns=['participant_status', 'participant_type', 'participant_gender', 'participant_age_group' , 'participant_age'], inplace=True)"
   ]
  },
  {
   "cell_type": "code",
   "execution_count": 58,
   "id": "6ae0ba27",
   "metadata": {},
   "outputs": [
    {
     "data": {
      "text/plain": [
       "Index(['incident_id', 'date', 'state', 'n_killed', 'n_injured',\n",
       "       'n_guns_involved', 'n_victims', 'n_suspects', 'n_unharmed',\n",
       "       'n_arrested'],\n",
       "      dtype='object')"
      ]
     },
     "execution_count": 58,
     "metadata": {},
     "output_type": "execute_result"
    }
   ],
   "source": [
    "df_cleaned.columns"
   ]
  },
  {
   "cell_type": "code",
   "execution_count": 62,
   "id": "e8a918e2",
   "metadata": {},
   "outputs": [
    {
     "name": "stdout",
     "output_type": "stream",
     "text": [
      "<class 'pandas.core.frame.DataFrame'>\n",
      "RangeIndex: 239677 entries, 0 to 239676\n",
      "Data columns (total 10 columns):\n",
      " #   Column           Non-Null Count   Dtype         \n",
      "---  ------           --------------   -----         \n",
      " 0   incident_id      239677 non-null  int64         \n",
      " 1   date             239677 non-null  datetime64[ns]\n",
      " 2   state            239677 non-null  object        \n",
      " 3   n_killed         239677 non-null  int64         \n",
      " 4   n_injured        239677 non-null  int64         \n",
      " 5   n_guns_involved  239677 non-null  float64       \n",
      " 6   n_victims        239677 non-null  int64         \n",
      " 7   n_suspects       239677 non-null  int64         \n",
      " 8   n_unharmed       239677 non-null  int64         \n",
      " 9   n_arrested       239677 non-null  int64         \n",
      "dtypes: datetime64[ns](1), float64(1), int64(7), object(1)\n",
      "memory usage: 18.3+ MB\n"
     ]
    }
   ],
   "source": [
    "df_cleaned.info()"
   ]
  },
  {
   "cell_type": "markdown",
   "id": "83c5c1f1",
   "metadata": {},
   "source": [
    "## Export data"
   ]
  },
  {
   "cell_type": "code",
   "execution_count": 64,
   "id": "4615fe77",
   "metadata": {},
   "outputs": [],
   "source": [
    "df_cleaned.to_csv(os.path.join(file_path, 'cleaned_gunviolence.csv'))"
   ]
  },
  {
   "cell_type": "code",
   "execution_count": null,
   "id": "af93c05e-3f1d-499a-90aa-7a50820e4709",
   "metadata": {},
   "outputs": [],
   "source": []
  }
 ],
 "metadata": {
  "kernelspec": {
   "display_name": "Python [conda env:base] *",
   "language": "python",
   "name": "conda-base-py"
  },
  "language_info": {
   "codemirror_mode": {
    "name": "ipython",
    "version": 3
   },
   "file_extension": ".py",
   "mimetype": "text/x-python",
   "name": "python",
   "nbconvert_exporter": "python",
   "pygments_lexer": "ipython3",
   "version": "3.12.7"
  }
 },
 "nbformat": 4,
 "nbformat_minor": 5
}
