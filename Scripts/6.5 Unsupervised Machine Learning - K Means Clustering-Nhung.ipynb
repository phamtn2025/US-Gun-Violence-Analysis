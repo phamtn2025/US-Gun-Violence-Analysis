{
 "cells": [
  {
   "cell_type": "markdown",
   "id": "a8053925",
   "metadata": {},
   "source": [
    "# Table of Content\n",
    "\n",
    "01. Import Libraries\n",
    "02. Import Data\n",
    "03. Data Preprocessing\n",
    "04. The Elbow Technique\n",
    "05. Silhouette Analysis\n",
    "06. Gap Statistic Method\n",
    "07. K-Means Clustering\n",
    "08. Visualizations and Basic Descriptive Statistics\n",
    "09. Discussion"
   ]
  },
  {
   "cell_type": "markdown",
   "id": "72748f93",
   "metadata": {},
   "source": [
    "# 01. Import Libraries"
   ]
  },
  {
   "cell_type": "code",
   "execution_count": 1,
   "id": "5eed7e9e",
   "metadata": {},
   "outputs": [],
   "source": [
    "import pandas as pd\n",
    "import numpy as np\n",
    "import os\n",
    "import seaborn as sns\n",
    "import matplotlib\n",
    "import matplotlib.pyplot as plt\n",
    "import sklearn\n",
    "from sklearn.preprocessing import StandardScaler   # For data standardization\n",
    "from sklearn.cluster import KMeans   # For K-Means clustering\n",
    "from sklearn.metrics import silhouette_samples, silhouette_score   # For Silhouette analysis\n",
    "from sklearn.metrics import pairwise_distances   # To calculate total within-cluster distance\n",
    "import warnings"
   ]
  },
  {
   "cell_type": "code",
   "execution_count": 3,
   "id": "64d4990b",
   "metadata": {},
   "outputs": [],
   "source": [
    "# Disable deprecation warnings that could indicate, for instance, a suspended library or feature. \n",
    "# These are more relevant to developers and very seldom to analysts.\n",
    "warnings.filterwarnings('ignore')"
   ]
  },
  {
   "cell_type": "code",
   "execution_count": 5,
   "id": "201a74b0",
   "metadata": {},
   "outputs": [],
   "source": [
    "# This option ensures the graphs you create are displayed in your notebook without the need to \"call\" them specifically.\n",
    "%matplotlib inline"
   ]
  },
  {
   "cell_type": "code",
   "execution_count": 7,
   "id": "5c413901",
   "metadata": {},
   "outputs": [],
   "source": [
    "# Adjust setting to allow seeing all the rows in the output of this notebook\n",
    "pd.options.display.max_rows = None"
   ]
  },
  {
   "cell_type": "code",
   "execution_count": 9,
   "id": "1c2ca41d",
   "metadata": {},
   "outputs": [],
   "source": [
    "# Adjust setting to allow seeing all the columns in the output of this notebook\n",
    "pd.options.display.max_columns = None"
   ]
  },
  {
   "cell_type": "markdown",
   "id": "41bc737f",
   "metadata": {},
   "source": [
    "# 02. Import Data"
   ]
  },
  {
   "cell_type": "code",
   "execution_count": 11,
   "id": "090b8ee4",
   "metadata": {},
   "outputs": [],
   "source": [
    "# Import data\n",
    "path = r'/Users/nhungphamthi/Documents/data analytis/Achievement 6'\n",
    "df_gun_violence = pd.read_csv(os.path.join(path, 'cleaned_gunviolence.csv'), index_col = False)"
   ]
  },
  {
   "cell_type": "code",
   "execution_count": 13,
   "id": "2a874f7f",
   "metadata": {},
   "outputs": [
    {
     "data": {
      "text/html": [
       "<div>\n",
       "<style scoped>\n",
       "    .dataframe tbody tr th:only-of-type {\n",
       "        vertical-align: middle;\n",
       "    }\n",
       "\n",
       "    .dataframe tbody tr th {\n",
       "        vertical-align: top;\n",
       "    }\n",
       "\n",
       "    .dataframe thead th {\n",
       "        text-align: right;\n",
       "    }\n",
       "</style>\n",
       "<table border=\"1\" class=\"dataframe\">\n",
       "  <thead>\n",
       "    <tr style=\"text-align: right;\">\n",
       "      <th></th>\n",
       "      <th>Unnamed: 0</th>\n",
       "      <th>incident_id</th>\n",
       "      <th>date</th>\n",
       "      <th>state</th>\n",
       "      <th>n_killed</th>\n",
       "      <th>n_injured</th>\n",
       "      <th>n_guns_involved</th>\n",
       "      <th>n_victims</th>\n",
       "      <th>n_suspects</th>\n",
       "      <th>n_unharmed</th>\n",
       "      <th>n_arrested</th>\n",
       "    </tr>\n",
       "  </thead>\n",
       "  <tbody>\n",
       "    <tr>\n",
       "      <th>0</th>\n",
       "      <td>0</td>\n",
       "      <td>461105</td>\n",
       "      <td>2013-01-01</td>\n",
       "      <td>Pennsylvania</td>\n",
       "      <td>0</td>\n",
       "      <td>4</td>\n",
       "      <td>0.0</td>\n",
       "      <td>4</td>\n",
       "      <td>1</td>\n",
       "      <td>0</td>\n",
       "      <td>1</td>\n",
       "    </tr>\n",
       "    <tr>\n",
       "      <th>1</th>\n",
       "      <td>1</td>\n",
       "      <td>460726</td>\n",
       "      <td>2013-01-01</td>\n",
       "      <td>California</td>\n",
       "      <td>1</td>\n",
       "      <td>3</td>\n",
       "      <td>0.0</td>\n",
       "      <td>4</td>\n",
       "      <td>1</td>\n",
       "      <td>0</td>\n",
       "      <td>0</td>\n",
       "    </tr>\n",
       "    <tr>\n",
       "      <th>2</th>\n",
       "      <td>2</td>\n",
       "      <td>478855</td>\n",
       "      <td>2013-01-01</td>\n",
       "      <td>Ohio</td>\n",
       "      <td>1</td>\n",
       "      <td>3</td>\n",
       "      <td>2.0</td>\n",
       "      <td>3</td>\n",
       "      <td>2</td>\n",
       "      <td>2</td>\n",
       "      <td>2</td>\n",
       "    </tr>\n",
       "    <tr>\n",
       "      <th>3</th>\n",
       "      <td>3</td>\n",
       "      <td>478925</td>\n",
       "      <td>2013-01-05</td>\n",
       "      <td>Colorado</td>\n",
       "      <td>4</td>\n",
       "      <td>0</td>\n",
       "      <td>0.0</td>\n",
       "      <td>3</td>\n",
       "      <td>1</td>\n",
       "      <td>0</td>\n",
       "      <td>0</td>\n",
       "    </tr>\n",
       "    <tr>\n",
       "      <th>4</th>\n",
       "      <td>4</td>\n",
       "      <td>478959</td>\n",
       "      <td>2013-01-07</td>\n",
       "      <td>North Carolina</td>\n",
       "      <td>2</td>\n",
       "      <td>2</td>\n",
       "      <td>2.0</td>\n",
       "      <td>3</td>\n",
       "      <td>1</td>\n",
       "      <td>0</td>\n",
       "      <td>0</td>\n",
       "    </tr>\n",
       "  </tbody>\n",
       "</table>\n",
       "</div>"
      ],
      "text/plain": [
       "   Unnamed: 0  incident_id        date           state  n_killed  n_injured  \\\n",
       "0           0       461105  2013-01-01    Pennsylvania         0          4   \n",
       "1           1       460726  2013-01-01      California         1          3   \n",
       "2           2       478855  2013-01-01            Ohio         1          3   \n",
       "3           3       478925  2013-01-05        Colorado         4          0   \n",
       "4           4       478959  2013-01-07  North Carolina         2          2   \n",
       "\n",
       "   n_guns_involved  n_victims  n_suspects  n_unharmed  n_arrested  \n",
       "0              0.0          4           1           0           1  \n",
       "1              0.0          4           1           0           0  \n",
       "2              2.0          3           2           2           2  \n",
       "3              0.0          3           1           0           0  \n",
       "4              2.0          3           1           0           0  "
      ]
     },
     "execution_count": 13,
     "metadata": {},
     "output_type": "execute_result"
    }
   ],
   "source": [
    "df_gun_violence .head()"
   ]
  },
  {
   "cell_type": "code",
   "execution_count": 15,
   "id": "2b9e2e2e",
   "metadata": {},
   "outputs": [
    {
     "data": {
      "text/plain": [
       "(239677, 11)"
      ]
     },
     "execution_count": 15,
     "metadata": {},
     "output_type": "execute_result"
    }
   ],
   "source": [
    "df_gun_violence.shape"
   ]
  },
  {
   "cell_type": "markdown",
   "id": "ae5991d9",
   "metadata": {},
   "source": [
    "# 03. Data Preprocessing"
   ]
  },
  {
   "cell_type": "markdown",
   "id": "f3a17359",
   "metadata": {},
   "source": [
    "### 03.1 Remove Categorical Variables"
   ]
  },
  {
   "cell_type": "code",
   "execution_count": 17,
   "id": "ffa2468b",
   "metadata": {},
   "outputs": [
    {
     "data": {
      "text/plain": [
       "Index(['Unnamed: 0', 'incident_id', 'date', 'state', 'n_killed', 'n_injured',\n",
       "       'n_guns_involved', 'n_victims', 'n_suspects', 'n_unharmed',\n",
       "       'n_arrested'],\n",
       "      dtype='object')"
      ]
     },
     "execution_count": 17,
     "metadata": {},
     "output_type": "execute_result"
    }
   ],
   "source": [
    "df_gun_violence .columns"
   ]
  },
  {
   "cell_type": "code",
   "execution_count": 53,
   "id": "836d55f2",
   "metadata": {},
   "outputs": [
    {
     "name": "stdout",
     "output_type": "stream",
     "text": [
      "<class 'pandas.core.frame.DataFrame'>\n",
      "RangeIndex: 239677 entries, 0 to 239676\n",
      "Data columns (total 14 columns):\n",
      " #   Column           Non-Null Count   Dtype  \n",
      "---  ------           --------------   -----  \n",
      " 0   Unnamed: 0       239677 non-null  int64  \n",
      " 1   incident_id      239677 non-null  int64  \n",
      " 2   date             239677 non-null  object \n",
      " 3   state            239677 non-null  object \n",
      " 4   n_killed         239677 non-null  float64\n",
      " 5   n_injured        239677 non-null  float64\n",
      " 6   n_guns_involved  239677 non-null  float64\n",
      " 7   n_victims        239677 non-null  float64\n",
      " 8   n_suspects       239677 non-null  float64\n",
      " 9   n_unharmed       239677 non-null  float64\n",
      " 10  n_arrested       239677 non-null  float64\n",
      " 11  Year             239677 non-null  int64  \n",
      " 12  Month            239677 non-null  int64  \n",
      " 13  clusters         239677 non-null  int32  \n",
      "dtypes: float64(7), int32(1), int64(4), object(2)\n",
      "memory usage: 24.7+ MB\n"
     ]
    }
   ],
   "source": [
    "# the date is string, so I seperate year and month and add more columns of year and month based on columns date.\n",
    "\n",
    "df_gun_violence['Year']= df_gun_violence['date'].str[0:4]\n",
    "\n",
    "df_gun_violence['Month']= df_gun_violence['date'].str[5:7]\n",
    "\n",
    "df_gun_violence = df_gun_violence.astype({\n",
    "    'Year': 'int64', \n",
    "    'Month': 'int64', \n",
    "    'n_killed': 'float64', \n",
    "    'n_injured': 'float64',\n",
    "    'n_guns_involved': 'float64', \n",
    "    'n_victims': 'float64', \n",
    "    'n_suspects': 'float64',\n",
    "    'n_unharmed': 'float64',\n",
    "    'n_arrested': 'float64'})\n",
    "    \n",
    "df_gun_violence.info()"
   ]
  },
  {
   "cell_type": "code",
   "execution_count": 21,
   "id": "bdd6fbec",
   "metadata": {},
   "outputs": [],
   "source": [
    "df_include = ['n_killed', 'n_injured','n_guns_involved', 'n_victims', 'n_suspects', 'n_unharmed','n_arrested', 'Month', 'Year']\n",
    "df_sub = df_gun_violence[df_include]"
   ]
  },
  {
   "cell_type": "code",
   "execution_count": 23,
   "id": "092fc5e8",
   "metadata": {},
   "outputs": [
    {
     "data": {
      "text/plain": [
       "(239677, 9)"
      ]
     },
     "execution_count": 23,
     "metadata": {},
     "output_type": "execute_result"
    }
   ],
   "source": [
    "df_sub.shape"
   ]
  },
  {
   "cell_type": "markdown",
   "id": "81ab3d6b",
   "metadata": {},
   "source": [
    "### 03.2 Standardization"
   ]
  },
  {
   "cell_type": "code",
   "execution_count": 25,
   "id": "6dc1c5c9",
   "metadata": {},
   "outputs": [],
   "source": [
    "# Define a standard scaler object\n",
    "scaler = StandardScaler()\n",
    "# Fit and transform data\n",
    "df_sub_scaled = scaler.fit_transform(df_sub)"
   ]
  },
  {
   "cell_type": "code",
   "execution_count": 27,
   "id": "63166802",
   "metadata": {},
   "outputs": [
    {
     "data": {
      "text/plain": [
       "array([[-0.48351913,  4.80305483, -0.22049462, ...,  0.71905166,\n",
       "        -1.55230029, -2.21200776],\n",
       "       [ 1.43300555,  3.4330994 , -0.22049462, ..., -0.50893204,\n",
       "        -1.55230029, -2.21200776],\n",
       "       [ 1.43300555,  3.4330994 ,  0.32870715, ...,  1.94703536,\n",
       "        -1.55230029, -2.21200776],\n",
       "       ...,\n",
       "       [-0.48351913,  0.69318852,  0.05410626, ..., -0.50893204,\n",
       "        -0.97219477,  1.86673626],\n",
       "       [ 1.43300555, -0.67676691,  0.05410626, ..., -0.50893204,\n",
       "        -0.97219477,  1.86673626],\n",
       "       [ 3.34953023, -0.67676691,  0.32870715, ..., -0.50893204,\n",
       "        -0.97219477,  1.86673626]])"
      ]
     },
     "execution_count": 27,
     "metadata": {},
     "output_type": "execute_result"
    }
   ],
   "source": [
    "df_sub_scaled"
   ]
  },
  {
   "cell_type": "markdown",
   "id": "faa2d56b",
   "metadata": {},
   "source": [
    "# 04. Elbow Technique"
   ]
  },
  {
   "cell_type": "code",
   "execution_count": 29,
   "id": "547b616e",
   "metadata": {},
   "outputs": [
    {
     "data": {
      "text/plain": [
       "[2157093.0000001616,\n",
       " 1851759.3543435168,\n",
       " 1683045.1415808173,\n",
       " 1478184.9564127997,\n",
       " 1389625.2905537034,\n",
       " 1249039.661263775,\n",
       " 1210260.0551368985,\n",
       " 1152640.1424890542,\n",
       " 1144440.2440817363,\n",
       " 986637.3100975282,\n",
       " 964359.1766061045,\n",
       " 936027.1590782995,\n",
       " 893281.0932573415,\n",
       " 865829.1911806581,\n",
       " 826174.9227870476,\n",
       " 799933.9484717196,\n",
       " 809349.9803707211,\n",
       " 769492.6355848671,\n",
       " 756990.0057460273,\n",
       " 716163.1994100923,\n",
       " 695878.3360766305,\n",
       " 661783.0852570334,\n",
       " 645921.7773818664,\n",
       " 636126.8218240143,\n",
       " 606682.0719762503,\n",
       " 611422.6164678857,\n",
       " 602423.737186688,\n",
       " 576052.4548776906,\n",
       " 567636.3322970462,\n",
       " 571576.5725181221,\n",
       " 560275.6683563343,\n",
       " 537447.9920181626,\n",
       " 551619.0981362902,\n",
       " 527285.4419163844,\n",
       " 508448.3336959691,\n",
       " 493663.02097974747,\n",
       " 492052.1296937284,\n",
       " 474547.52498079505,\n",
       " 481765.72364049964,\n",
       " 466482.42734604934,\n",
       " 458989.69476890133]"
      ]
     },
     "execution_count": 29,
     "metadata": {},
     "output_type": "execute_result"
    }
   ],
   "source": [
    "# Define the range of potential clusters in the data.\n",
    "num_cl = range(1, 42)\n",
    "wcss = []\n",
    "\n",
    "for i in num_cl: \n",
    "    # Define k-means clusters in the range assigned above.\n",
    "    kmeans = KMeans(n_clusters = i)\n",
    "    # Each k-means algorithm is applied onto data\n",
    "    kmeans.fit(df_sub_scaled)\n",
    "    # We access the inertia_ attribute of the fitted KMeans object, which contains the WCSS value\n",
    "    wcss.append(kmeans.inertia_)\n",
    "    \n",
    "wcss\n",
    "\n",
    "# The Within-Cluster Sum of Squares (WCSS) is the sum of the squared distances between each data point and its assigned centroid within the clusters. \n",
    "# It is a measure of the compactness of the clusters formed by the KMeans algorithm.\n",
    "# The higher the number of clusters, the lower the value of WCSS."
   ]
  },
  {
   "cell_type": "code",
   "execution_count": 31,
   "id": "dfcdf1a4",
   "metadata": {},
   "outputs": [
    {
     "data": {
      "text/plain": [
       "Text(0, 0.5, 'WCSS')"
      ]
     },
     "execution_count": 31,
     "metadata": {},
     "output_type": "execute_result"
    }
   ],
   "source": [
    "plt.plot(num_cl, wcss)\n",
    "plt.title('Elbow Curve')\n",
    "plt.xlabel('Number of clusters')\n",
    "plt.ylabel('WCSS')"
   ]
  },
  {
   "cell_type": "markdown",
   "id": "2cc22ec3",
   "metadata": {},
   "source": [
    "Interpretation:\n",
    "From the elbow curve, it is inconclusive to determine the optimal number of clusters as there is no obvious elbow from the curve. <br> So I try with Silhouette analysis. "
   ]
  },
  {
   "cell_type": "markdown",
   "id": "dafee954",
   "metadata": {},
   "source": [
    "# 05. Silhouette Analysis"
   ]
  },
  {
   "cell_type": "code",
   "execution_count": 38,
   "id": "2fae9ec6",
   "metadata": {},
   "outputs": [],
   "source": [
    "# Define the range of number of clusters to evaluate\n",
    "num_clusters = 3  # Choose the number of clusters\n",
    "kmeans = KMeans(n_clusters=num_clusters, random_state=42)\n",
    "cluster_labels = kmeans.fit_predict(df_sub_scaled)"
   ]
  },
  {
   "cell_type": "code",
   "execution_count": null,
   "id": "cce45adb-46d0-4479-a571-273cf5a8e91c",
   "metadata": {},
   "outputs": [],
   "source": [
    "# Calculate Silhouette Scores\n",
    "silhouette_avg = silhouette_score(df_sub_scaled, cluster_labels)\n",
    "sample_silhouette_values = silhouette_samples(df_sub_scaled, cluster_labels)\n",
    "print(f'Average Silhouette Score: {silhouette_avg}')"
   ]
  },
  {
   "cell_type": "markdown",
   "id": "25bbab3c",
   "metadata": {},
   "source": [
    "<b>Interpretation: </b><br>\n",
    "Silhoutte analysis takes too long to run on whole dataset. I couldnt run it even I tried again and again many times."
   ]
  },
  {
   "cell_type": "markdown",
   "id": "76ca2993",
   "metadata": {},
   "source": [
    "# 06. Gap Statistic Method"
   ]
  },
  {
   "cell_type": "code",
   "execution_count": 35,
   "id": "a28a0e45",
   "metadata": {},
   "outputs": [
    {
     "name": "stdout",
     "output_type": "stream",
     "text": [
      "Optimal number of clusters: 1\n"
     ]
    },
    {
     "data": {
      "image/png": "[encoded data removed]",
      "text/plain": [
       "<Figure size 640x480 with 1 Axes>"
      ]
     },
     "metadata": {},
     "output_type": "display_data"
    }
   ],
   "source": [
    "def generate_reference_data(data, n_refs):\n",
    "    \"\"\"\n",
    "    Generate reference datasets by uniformly sampling within the bounds of the original dataset.\n",
    "    \n",
    "    Parameters:\n",
    "    - data: numpy.ndarray, the original dataset\n",
    "    - n_refs: int, number of reference datasets to generate\n",
    "    \n",
    "    Returns:\n",
    "    - rands: numpy.ndarray, array containing the reference datasets\n",
    "    \"\"\"\n",
    "    shape = data.shape\n",
    "    tops = data.max(axis=0)  # Maximum value for each feature\n",
    "    bots = data.min(axis=0)  # Minimum value for each feature\n",
    "    \n",
    "    # Generate uniformly distributed random points within the data bounds\n",
    "    rands = np.random.random_sample(size=(shape[0], shape[1], n_refs))\n",
    "    for i in range(n_refs):\n",
    "        rands[:, :, i] = rands[:, :, i] * (tops - bots) + bots   # Scale and shift the random points to match the data's range\n",
    "\n",
    "    return rands\n",
    "\n",
    "def gap_statistic(data, n_refs=20, max_k=10):   # These are default values set, can be overwritten when calling the function\n",
    "    \"\"\"\n",
    "    Compute the Gap Statistic for an input dataset and a range of cluster counts.\n",
    "    \n",
    "    Parameters:\n",
    "    - data: numpy.ndarray, the dataset to be clustered\n",
    "    - n_refs: int, number of reference datasets to generate\n",
    "    - max_k: int, the maximum number of clusters to test\n",
    "    \n",
    "    Returns:\n",
    "    - gaps: numpy.ndarray, the Gap values for each k\n",
    "    - s_k: numpy.ndarray, the standard deviations for each k\n",
    "    - optimal_k: int, the estimated optimal number of clusters\n",
    "    \"\"\"\n",
    "    # Generate reference datasets\n",
    "    rands = generate_reference_data(data, n_refs)\n",
    "    \n",
    "    # Initialize arrays to hold Gap values, standard deviations, and log within-cluster dispersions\n",
    "    gaps = np.zeros(max_k)\n",
    "    s_k = np.zeros(max_k)\n",
    "    log_Wk = np.zeros(max_k)\n",
    "    log_Wk_ref = np.zeros((max_k, n_refs))\n",
    "\n",
    "    # Loop over each k (number of clusters) to compute the Gap Statistic\n",
    "    for k in range(1, max_k + 1):\n",
    "        # Fit KMeans to the original data and compute within-cluster dispersion Wk using pairwise distances\n",
    "        kmeans = KMeans(n_clusters=k).fit(data)\n",
    "        Wk = sum(np.min(pairwise_distances(data, kmeans.cluster_centers_), axis=1))\n",
    "        log_Wk[k - 1] = np.log(Wk)   # Log-transform the within-cluster dispersion\n",
    "\n",
    "        # Fit KMeans to the reference datasets and compute within-cluster dispersion Wk_ref using pairwise distances\n",
    "        for i in range(n_refs):\n",
    "            kmeans_ref = KMeans(n_clusters=k).fit(rands[:, :, i])\n",
    "            Wk_ref = sum(np.min(pairwise_distances(rands[:, :, i], kmeans_ref.cluster_centers_), axis=1))\n",
    "            log_Wk_ref[k - 1, i] = np.log(Wk_ref)   # Log-transform the within-cluster dispersion for the reference data\n",
    "\n",
    "        # Calculate the Gap statistic\n",
    "        gaps[k - 1] = np.mean(log_Wk_ref[k - 1, :]) - log_Wk[k - 1]   # Gap = mean(log(Wk*)) - log(Wk)\n",
    "        s_k[k - 1] = np.std(log_Wk_ref[k - 1, :])   # Standard deviation of log(Wk*) for error bars\n",
    "\n",
    "    # Determine the optimal number of clusters\n",
    "    optimal_k = np.argmax(gaps) + 1   # Start with the k that has the maximum gap\n",
    "    for k in range(1, max_k):\n",
    "        if gaps[k - 1] >= gaps[k] - s_k[k]:\n",
    "            optimal_k = k\n",
    "            break\n",
    "\n",
    "    return gaps, s_k, optimal_k\n",
    "\n",
    "# Execute the functions above\n",
    "data = df_sub_scaled\n",
    "\n",
    "# Compute the Gap Statistic with 10 reference datasets\n",
    "gaps, s_k, optimal_k = gap_statistic(data, n_refs=10, max_k=10)\n",
    "\n",
    "# Print the optimal number of clusters\n",
    "print(f'Optimal number of clusters: {optimal_k}')\n",
    "\n",
    "# Plot the Gap Statistic with error bars\n",
    "plt.errorbar(range(1, 11), gaps, yerr=s_k, fmt='-o', capsize=5)\n",
    "plt.xlabel('Number of clusters')\n",
    "plt.ylabel('Gap Statistic')\n",
    "plt.title('Gap Statistic for Optimal Number of Clusters')\n",
    "plt.show()"
   ]
  },
  {
   "cell_type": "code",
   "execution_count": 37,
   "id": "6cd7d131",
   "metadata": {},
   "outputs": [
    {
     "data": {
      "text/plain": [
       "array([3.25984344, 3.21604964, 3.23232522, 3.26378698, 3.24583822,\n",
       "       3.24625426, 3.2914488 , 3.27169518, 3.28583942, 3.27181771])"
      ]
     },
     "execution_count": 37,
     "metadata": {},
     "output_type": "execute_result"
    }
   ],
   "source": [
    "gaps"
   ]
  },
  {
   "cell_type": "code",
   "execution_count": 39,
   "id": "ae59b50b",
   "metadata": {},
   "outputs": [
    {
     "data": {
      "text/plain": [
       "array([0.00054643, 0.00847924, 0.00053446, 0.00451523, 0.00041723,\n",
       "       0.00230259, 0.00442446, 0.00352668, 0.00274317, 0.00134891])"
      ]
     },
     "execution_count": 39,
     "metadata": {},
     "output_type": "execute_result"
    }
   ],
   "source": [
    "s_k"
   ]
  },
  {
   "cell_type": "markdown",
   "id": "80f3d2f0",
   "metadata": {},
   "source": [
    "The dataset is likely not naturally separable into clusters.\n",
    "The data points may be uniformly distributed rather than forming distinct groups.\n",
    "Applying clustering (like K-Means) may not be useful."
   ]
  },
  {
   "cell_type": "markdown",
   "id": "7d9854eb",
   "metadata": {},
   "source": [
    "# 07. K-Means Clustering"
   ]
  },
  {
   "cell_type": "code",
   "execution_count": 43,
   "id": "b22ff3ef",
   "metadata": {},
   "outputs": [],
   "source": [
    "# Create the k-means object with the optimal number of clusters.\n",
    "kmeans = KMeans(n_clusters = 2)"
   ]
  },
  {
   "cell_type": "code",
   "execution_count": 45,
   "id": "08603be5",
   "metadata": {},
   "outputs": [
    {
     "data": {
      "text/html": [
       "<style>#sk-container-id-1 {\n",
       "  /* Definition of color scheme common for light and dark mode */\n",
       "  --sklearn-color-text: black;\n",
       "  --sklearn-color-line: gray;\n",
       "  /* Definition of color scheme for unfitted estimators */\n",
       "  --sklearn-color-unfitted-level-0: #fff5e6;\n",
       "  --sklearn-color-unfitted-level-1: #f6e4d2;\n",
       "  --sklearn-color-unfitted-level-2: #ffe0b3;\n",
       "  --sklearn-color-unfitted-level-3: chocolate;\n",
       "  /* Definition of color scheme for fitted estimators */\n",
       "  --sklearn-color-fitted-level-0: #f0f8ff;\n",
       "  --sklearn-color-fitted-level-1: #d4ebff;\n",
       "  --sklearn-color-fitted-level-2: #b3dbfd;\n",
       "  --sklearn-color-fitted-level-3: cornflowerblue;\n",
       "\n",
       "  /* Specific color for light theme */\n",
       "  --sklearn-color-text-on-default-background: var(--sg-text-color, var(--theme-code-foreground, var(--jp-content-font-color1, black)));\n",
       "  --sklearn-color-background: var(--sg-background-color, var(--theme-background, var(--jp-layout-color0, white)));\n",
       "  --sklearn-color-border-box: var(--sg-text-color, var(--theme-code-foreground, var(--jp-content-font-color1, black)));\n",
       "  --sklearn-color-icon: #696969;\n",
       "\n",
       "  @media (prefers-color-scheme: dark) {\n",
       "    /* Redefinition of color scheme for dark theme */\n",
       "    --sklearn-color-text-on-default-background: var(--sg-text-color, var(--theme-code-foreground, var(--jp-content-font-color1, white)));\n",
       "    --sklearn-color-background: var(--sg-background-color, var(--theme-background, var(--jp-layout-color0, #111)));\n",
       "    --sklearn-color-border-box: var(--sg-text-color, var(--theme-code-foreground, var(--jp-content-font-color1, white)));\n",
       "    --sklearn-color-icon: #878787;\n",
       "  }\n",
       "}\n",
       "\n",
       "#sk-container-id-1 {\n",
       "  color: var(--sklearn-color-text);\n",
       "}\n",
       "\n",
       "#sk-container-id-1 pre {\n",
       "  padding: 0;\n",
       "}\n",
       "\n",
       "#sk-container-id-1 input.sk-hidden--visually {\n",
       "  border: 0;\n",
       "  clip: rect(1px 1px 1px 1px);\n",
       "  clip: rect(1px, 1px, 1px, 1px);\n",
       "  height: 1px;\n",
       "  margin: -1px;\n",
       "  overflow: hidden;\n",
       "  padding: 0;\n",
       "  position: absolute;\n",
       "  width: 1px;\n",
       "}\n",
       "\n",
       "#sk-container-id-1 div.sk-dashed-wrapped {\n",
       "  border: 1px dashed var(--sklearn-color-line);\n",
       "  margin: 0 0.4em 0.5em 0.4em;\n",
       "  box-sizing: border-box;\n",
       "  padding-bottom: 0.4em;\n",
       "  background-color: var(--sklearn-color-background);\n",
       "}\n",
       "\n",
       "#sk-container-id-1 div.sk-container {\n",
       "  /* jupyter's `normalize.less` sets `[hidden] { display: none; }`\n",
       "     but bootstrap.min.css set `[hidden] { display: none !important; }`\n",
       "     so we also need the `!important` here to be able to override the\n",
       "     default hidden behavior on the sphinx rendered scikit-learn.org.\n",
       "     See: https://github.com/scikit-learn/scikit-learn/issues/21755 */\n",
       "  display: inline-block !important;\n",
       "  position: relative;\n",
       "}\n",
       "\n",
       "#sk-container-id-1 div.sk-text-repr-fallback {\n",
       "  display: none;\n",
       "}\n",
       "\n",
       "div.sk-parallel-item,\n",
       "div.sk-serial,\n",
       "div.sk-item {\n",
       "  /* draw centered vertical line to link estimators */\n",
       "  background-image: linear-gradient(var(--sklearn-color-text-on-default-background), var(--sklearn-color-text-on-default-background));\n",
       "  background-size: 2px 100%;\n",
       "  background-repeat: no-repeat;\n",
       "  background-position: center center;\n",
       "}\n",
       "\n",
       "/* Parallel-specific style estimator block */\n",
       "\n",
       "#sk-container-id-1 div.sk-parallel-item::after {\n",
       "  content: \"\";\n",
       "  width: 100%;\n",
       "  border-bottom: 2px solid var(--sklearn-color-text-on-default-background);\n",
       "  flex-grow: 1;\n",
       "}\n",
       "\n",
       "#sk-container-id-1 div.sk-parallel {\n",
       "  display: flex;\n",
       "  align-items: stretch;\n",
       "  justify-content: center;\n",
       "  background-color: var(--sklearn-color-background);\n",
       "  position: relative;\n",
       "}\n",
       "\n",
       "#sk-container-id-1 div.sk-parallel-item {\n",
       "  display: flex;\n",
       "  flex-direction: column;\n",
       "}\n",
       "\n",
       "#sk-container-id-1 div.sk-parallel-item:first-child::after {\n",
       "  align-self: flex-end;\n",
       "  width: 50%;\n",
       "}\n",
       "\n",
       "#sk-container-id-1 div.sk-parallel-item:last-child::after {\n",
       "  align-self: flex-start;\n",
       "  width: 50%;\n",
       "}\n",
       "\n",
       "#sk-container-id-1 div.sk-parallel-item:only-child::after {\n",
       "  width: 0;\n",
       "}\n",
       "\n",
       "/* Serial-specific style estimator block */\n",
       "\n",
       "#sk-container-id-1 div.sk-serial {\n",
       "  display: flex;\n",
       "  flex-direction: column;\n",
       "  align-items: center;\n",
       "  background-color: var(--sklearn-color-background);\n",
       "  padding-right: 1em;\n",
       "  padding-left: 1em;\n",
       "}\n",
       "\n",
       "\n",
       "/* Toggleable style: style used for estimator/Pipeline/ColumnTransformer box that is\n",
       "clickable and can be expanded/collapsed.\n",
       "- Pipeline and ColumnTransformer use this feature and define the default style\n",
       "- Estimators will overwrite some part of the style using the `sk-estimator` class\n",
       "*/\n",
       "\n",
       "/* Pipeline and ColumnTransformer style (default) */\n",
       "\n",
       "#sk-container-id-1 div.sk-toggleable {\n",
       "  /* Default theme specific background. It is overwritten whether we have a\n",
       "  specific estimator or a Pipeline/ColumnTransformer */\n",
       "  background-color: var(--sklearn-color-background);\n",
       "}\n",
       "\n",
       "/* Toggleable label */\n",
       "#sk-container-id-1 label.sk-toggleable__label {\n",
       "  cursor: pointer;\n",
       "  display: block;\n",
       "  width: 100%;\n",
       "  margin-bottom: 0;\n",
       "  padding: 0.5em;\n",
       "  box-sizing: border-box;\n",
       "  text-align: center;\n",
       "}\n",
       "\n",
       "#sk-container-id-1 label.sk-toggleable__label-arrow:before {\n",
       "  /* Arrow on the left of the label */\n",
       "  content: \"▸\";\n",
       "  float: left;\n",
       "  margin-right: 0.25em;\n",
       "  color: var(--sklearn-color-icon);\n",
       "}\n",
       "\n",
       "#sk-container-id-1 label.sk-toggleable__label-arrow:hover:before {\n",
       "  color: var(--sklearn-color-text);\n",
       "}\n",
       "\n",
       "/* Toggleable content - dropdown */\n",
       "\n",
       "#sk-container-id-1 div.sk-toggleable__content {\n",
       "  max-height: 0;\n",
       "  max-width: 0;\n",
       "  overflow: hidden;\n",
       "  text-align: left;\n",
       "  /* unfitted */\n",
       "  background-color: var(--sklearn-color-unfitted-level-0);\n",
       "}\n",
       "\n",
       "#sk-container-id-1 div.sk-toggleable__content.fitted {\n",
       "  /* fitted */\n",
       "  background-color: var(--sklearn-color-fitted-level-0);\n",
       "}\n",
       "\n",
       "#sk-container-id-1 div.sk-toggleable__content pre {\n",
       "  margin: 0.2em;\n",
       "  border-radius: 0.25em;\n",
       "  color: var(--sklearn-color-text);\n",
       "  /* unfitted */\n",
       "  background-color: var(--sklearn-color-unfitted-level-0);\n",
       "}\n",
       "\n",
       "#sk-container-id-1 div.sk-toggleable__content.fitted pre {\n",
       "  /* unfitted */\n",
       "  background-color: var(--sklearn-color-fitted-level-0);\n",
       "}\n",
       "\n",
       "#sk-container-id-1 input.sk-toggleable__control:checked~div.sk-toggleable__content {\n",
       "  /* Expand drop-down */\n",
       "  max-height: 200px;\n",
       "  max-width: 100%;\n",
       "  overflow: auto;\n",
       "}\n",
       "\n",
       "#sk-container-id-1 input.sk-toggleable__control:checked~label.sk-toggleable__label-arrow:before {\n",
       "  content: \"▾\";\n",
       "}\n",
       "\n",
       "/* Pipeline/ColumnTransformer-specific style */\n",
       "\n",
       "#sk-container-id-1 div.sk-label input.sk-toggleable__control:checked~label.sk-toggleable__label {\n",
       "  color: var(--sklearn-color-text);\n",
       "  background-color: var(--sklearn-color-unfitted-level-2);\n",
       "}\n",
       "\n",
       "#sk-container-id-1 div.sk-label.fitted input.sk-toggleable__control:checked~label.sk-toggleable__label {\n",
       "  background-color: var(--sklearn-color-fitted-level-2);\n",
       "}\n",
       "\n",
       "/* Estimator-specific style */\n",
       "\n",
       "/* Colorize estimator box */\n",
       "#sk-container-id-1 div.sk-estimator input.sk-toggleable__control:checked~label.sk-toggleable__label {\n",
       "  /* unfitted */\n",
       "  background-color: var(--sklearn-color-unfitted-level-2);\n",
       "}\n",
       "\n",
       "#sk-container-id-1 div.sk-estimator.fitted input.sk-toggleable__control:checked~label.sk-toggleable__label {\n",
       "  /* fitted */\n",
       "  background-color: var(--sklearn-color-fitted-level-2);\n",
       "}\n",
       "\n",
       "#sk-container-id-1 div.sk-label label.sk-toggleable__label,\n",
       "#sk-container-id-1 div.sk-label label {\n",
       "  /* The background is the default theme color */\n",
       "  color: var(--sklearn-color-text-on-default-background);\n",
       "}\n",
       "\n",
       "/* On hover, darken the color of the background */\n",
       "#sk-container-id-1 div.sk-label:hover label.sk-toggleable__label {\n",
       "  color: var(--sklearn-color-text);\n",
       "  background-color: var(--sklearn-color-unfitted-level-2);\n",
       "}\n",
       "\n",
       "/* Label box, darken color on hover, fitted */\n",
       "#sk-container-id-1 div.sk-label.fitted:hover label.sk-toggleable__label.fitted {\n",
       "  color: var(--sklearn-color-text);\n",
       "  background-color: var(--sklearn-color-fitted-level-2);\n",
       "}\n",
       "\n",
       "/* Estimator label */\n",
       "\n",
       "#sk-container-id-1 div.sk-label label {\n",
       "  font-family: monospace;\n",
       "  font-weight: bold;\n",
       "  display: inline-block;\n",
       "  line-height: 1.2em;\n",
       "}\n",
       "\n",
       "#sk-container-id-1 div.sk-label-container {\n",
       "  text-align: center;\n",
       "}\n",
       "\n",
       "/* Estimator-specific */\n",
       "#sk-container-id-1 div.sk-estimator {\n",
       "  font-family: monospace;\n",
       "  border: 1px dotted var(--sklearn-color-border-box);\n",
       "  border-radius: 0.25em;\n",
       "  box-sizing: border-box;\n",
       "  margin-bottom: 0.5em;\n",
       "  /* unfitted */\n",
       "  background-color: var(--sklearn-color-unfitted-level-0);\n",
       "}\n",
       "\n",
       "#sk-container-id-1 div.sk-estimator.fitted {\n",
       "  /* fitted */\n",
       "  background-color: var(--sklearn-color-fitted-level-0);\n",
       "}\n",
       "\n",
       "/* on hover */\n",
       "#sk-container-id-1 div.sk-estimator:hover {\n",
       "  /* unfitted */\n",
       "  background-color: var(--sklearn-color-unfitted-level-2);\n",
       "}\n",
       "\n",
       "#sk-container-id-1 div.sk-estimator.fitted:hover {\n",
       "  /* fitted */\n",
       "  background-color: var(--sklearn-color-fitted-level-2);\n",
       "}\n",
       "\n",
       "/* Specification for estimator info (e.g. \"i\" and \"?\") */\n",
       "\n",
       "/* Common style for \"i\" and \"?\" */\n",
       "\n",
       ".sk-estimator-doc-link,\n",
       "a:link.sk-estimator-doc-link,\n",
       "a:visited.sk-estimator-doc-link {\n",
       "  float: right;\n",
       "  font-size: smaller;\n",
       "  line-height: 1em;\n",
       "  font-family: monospace;\n",
       "  background-color: var(--sklearn-color-background);\n",
       "  border-radius: 1em;\n",
       "  height: 1em;\n",
       "  width: 1em;\n",
       "  text-decoration: none !important;\n",
       "  margin-left: 1ex;\n",
       "  /* unfitted */\n",
       "  border: var(--sklearn-color-unfitted-level-1) 1pt solid;\n",
       "  color: var(--sklearn-color-unfitted-level-1);\n",
       "}\n",
       "\n",
       ".sk-estimator-doc-link.fitted,\n",
       "a:link.sk-estimator-doc-link.fitted,\n",
       "a:visited.sk-estimator-doc-link.fitted {\n",
       "  /* fitted */\n",
       "  border: var(--sklearn-color-fitted-level-1) 1pt solid;\n",
       "  color: var(--sklearn-color-fitted-level-1);\n",
       "}\n",
       "\n",
       "/* On hover */\n",
       "div.sk-estimator:hover .sk-estimator-doc-link:hover,\n",
       ".sk-estimator-doc-link:hover,\n",
       "div.sk-label-container:hover .sk-estimator-doc-link:hover,\n",
       ".sk-estimator-doc-link:hover {\n",
       "  /* unfitted */\n",
       "  background-color: var(--sklearn-color-unfitted-level-3);\n",
       "  color: var(--sklearn-color-background);\n",
       "  text-decoration: none;\n",
       "}\n",
       "\n",
       "div.sk-estimator.fitted:hover .sk-estimator-doc-link.fitted:hover,\n",
       ".sk-estimator-doc-link.fitted:hover,\n",
       "div.sk-label-container:hover .sk-estimator-doc-link.fitted:hover,\n",
       ".sk-estimator-doc-link.fitted:hover {\n",
       "  /* fitted */\n",
       "  background-color: var(--sklearn-color-fitted-level-3);\n",
       "  color: var(--sklearn-color-background);\n",
       "  text-decoration: none;\n",
       "}\n",
       "\n",
       "/* Span, style for the box shown on hovering the info icon */\n",
       ".sk-estimator-doc-link span {\n",
       "  display: none;\n",
       "  z-index: 9999;\n",
       "  position: relative;\n",
       "  font-weight: normal;\n",
       "  right: .2ex;\n",
       "  padding: .5ex;\n",
       "  margin: .5ex;\n",
       "  width: min-content;\n",
       "  min-width: 20ex;\n",
       "  max-width: 50ex;\n",
       "  color: var(--sklearn-color-text);\n",
       "  box-shadow: 2pt 2pt 4pt #999;\n",
       "  /* unfitted */\n",
       "  background: var(--sklearn-color-unfitted-level-0);\n",
       "  border: .5pt solid var(--sklearn-color-unfitted-level-3);\n",
       "}\n",
       "\n",
       ".sk-estimator-doc-link.fitted span {\n",
       "  /* fitted */\n",
       "  background: var(--sklearn-color-fitted-level-0);\n",
       "  border: var(--sklearn-color-fitted-level-3);\n",
       "}\n",
       "\n",
       ".sk-estimator-doc-link:hover span {\n",
       "  display: block;\n",
       "}\n",
       "\n",
       "/* \"?\"-specific style due to the `<a>` HTML tag */\n",
       "\n",
       "#sk-container-id-1 a.estimator_doc_link {\n",
       "  float: right;\n",
       "  font-size: 1rem;\n",
       "  line-height: 1em;\n",
       "  font-family: monospace;\n",
       "  background-color: var(--sklearn-color-background);\n",
       "  border-radius: 1rem;\n",
       "  height: 1rem;\n",
       "  width: 1rem;\n",
       "  text-decoration: none;\n",
       "  /* unfitted */\n",
       "  color: var(--sklearn-color-unfitted-level-1);\n",
       "  border: var(--sklearn-color-unfitted-level-1) 1pt solid;\n",
       "}\n",
       "\n",
       "#sk-container-id-1 a.estimator_doc_link.fitted {\n",
       "  /* fitted */\n",
       "  border: var(--sklearn-color-fitted-level-1) 1pt solid;\n",
       "  color: var(--sklearn-color-fitted-level-1);\n",
       "}\n",
       "\n",
       "/* On hover */\n",
       "#sk-container-id-1 a.estimator_doc_link:hover {\n",
       "  /* unfitted */\n",
       "  background-color: var(--sklearn-color-unfitted-level-3);\n",
       "  color: var(--sklearn-color-background);\n",
       "  text-decoration: none;\n",
       "}\n",
       "\n",
       "#sk-container-id-1 a.estimator_doc_link.fitted:hover {\n",
       "  /* fitted */\n",
       "  background-color: var(--sklearn-color-fitted-level-3);\n",
       "}\n",
       "</style><div id=\"sk-container-id-1\" class=\"sk-top-container\"><div class=\"sk-text-repr-fallback\"><pre>KMeans(n_clusters=2)</pre><b>In a Jupyter environment, please rerun this cell to show the HTML representation or trust the notebook. <br />On GitHub, the HTML representation is unable to render, please try loading this page with nbviewer.org.</b></div><div class=\"sk-container\" hidden><div class=\"sk-item\"><div class=\"sk-estimator fitted sk-toggleable\"><input class=\"sk-toggleable__control sk-hidden--visually\" id=\"sk-estimator-id-1\" type=\"checkbox\" checked><label for=\"sk-estimator-id-1\" class=\"sk-toggleable__label fitted sk-toggleable__label-arrow fitted\">&nbsp;&nbsp;KMeans<a class=\"sk-estimator-doc-link fitted\" rel=\"noreferrer\" target=\"_blank\" href=\"https://scikit-learn.org/1.5/modules/generated/sklearn.cluster.KMeans.html\">?<span>Documentation for KMeans</span></a><span class=\"sk-estimator-doc-link fitted\">i<span>Fitted</span></span></label><div class=\"sk-toggleable__content fitted\"><pre>KMeans(n_clusters=2)</pre></div> </div></div></div></div>"
      ],
      "text/plain": [
       "KMeans(n_clusters=2)"
      ]
     },
     "execution_count": 45,
     "metadata": {},
     "output_type": "execute_result"
    }
   ],
   "source": [
    "# Fit the k-means object to the data.\n",
    "kmeans.fit(df_sub_scaled)"
   ]
  },
  {
   "cell_type": "code",
   "execution_count": 55,
   "id": "6923f94f",
   "metadata": {},
   "outputs": [],
   "source": [
    "# Create a column in the dataframe with values corresponding to which cluster every observation belongs.\n",
    "df_gun_violence['clusters'] = kmeans.labels_"
   ]
  },
  {
   "cell_type": "code",
   "execution_count": 57,
   "id": "f458811d",
   "metadata": {},
   "outputs": [
    {
     "data": {
      "text/html": [
       "<div>\n",
       "<style scoped>\n",
       "    .dataframe tbody tr th:only-of-type {\n",
       "        vertical-align: middle;\n",
       "    }\n",
       "\n",
       "    .dataframe tbody tr th {\n",
       "        vertical-align: top;\n",
       "    }\n",
       "\n",
       "    .dataframe thead th {\n",
       "        text-align: right;\n",
       "    }\n",
       "</style>\n",
       "<table border=\"1\" class=\"dataframe\">\n",
       "  <thead>\n",
       "    <tr style=\"text-align: right;\">\n",
       "      <th></th>\n",
       "      <th>Unnamed: 0</th>\n",
       "      <th>incident_id</th>\n",
       "      <th>date</th>\n",
       "      <th>state</th>\n",
       "      <th>n_killed</th>\n",
       "      <th>n_injured</th>\n",
       "      <th>n_guns_involved</th>\n",
       "      <th>n_victims</th>\n",
       "      <th>n_suspects</th>\n",
       "      <th>n_unharmed</th>\n",
       "      <th>n_arrested</th>\n",
       "      <th>Year</th>\n",
       "      <th>Month</th>\n",
       "      <th>clusters</th>\n",
       "    </tr>\n",
       "  </thead>\n",
       "  <tbody>\n",
       "    <tr>\n",
       "      <th>0</th>\n",
       "      <td>0</td>\n",
       "      <td>461105</td>\n",
       "      <td>2013-01-01</td>\n",
       "      <td>Pennsylvania</td>\n",
       "      <td>0.0</td>\n",
       "      <td>4.0</td>\n",
       "      <td>0.0</td>\n",
       "      <td>4.0</td>\n",
       "      <td>1.0</td>\n",
       "      <td>0.0</td>\n",
       "      <td>1.0</td>\n",
       "      <td>2013</td>\n",
       "      <td>1</td>\n",
       "      <td>0</td>\n",
       "    </tr>\n",
       "    <tr>\n",
       "      <th>1</th>\n",
       "      <td>1</td>\n",
       "      <td>460726</td>\n",
       "      <td>2013-01-01</td>\n",
       "      <td>California</td>\n",
       "      <td>1.0</td>\n",
       "      <td>3.0</td>\n",
       "      <td>0.0</td>\n",
       "      <td>4.0</td>\n",
       "      <td>1.0</td>\n",
       "      <td>0.0</td>\n",
       "      <td>0.0</td>\n",
       "      <td>2013</td>\n",
       "      <td>1</td>\n",
       "      <td>0</td>\n",
       "    </tr>\n",
       "    <tr>\n",
       "      <th>2</th>\n",
       "      <td>2</td>\n",
       "      <td>478855</td>\n",
       "      <td>2013-01-01</td>\n",
       "      <td>Ohio</td>\n",
       "      <td>1.0</td>\n",
       "      <td>3.0</td>\n",
       "      <td>2.0</td>\n",
       "      <td>3.0</td>\n",
       "      <td>2.0</td>\n",
       "      <td>2.0</td>\n",
       "      <td>2.0</td>\n",
       "      <td>2013</td>\n",
       "      <td>1</td>\n",
       "      <td>1</td>\n",
       "    </tr>\n",
       "    <tr>\n",
       "      <th>3</th>\n",
       "      <td>3</td>\n",
       "      <td>478925</td>\n",
       "      <td>2013-01-05</td>\n",
       "      <td>Colorado</td>\n",
       "      <td>4.0</td>\n",
       "      <td>0.0</td>\n",
       "      <td>0.0</td>\n",
       "      <td>3.0</td>\n",
       "      <td>1.0</td>\n",
       "      <td>0.0</td>\n",
       "      <td>0.0</td>\n",
       "      <td>2013</td>\n",
       "      <td>1</td>\n",
       "      <td>0</td>\n",
       "    </tr>\n",
       "    <tr>\n",
       "      <th>4</th>\n",
       "      <td>4</td>\n",
       "      <td>478959</td>\n",
       "      <td>2013-01-07</td>\n",
       "      <td>North Carolina</td>\n",
       "      <td>2.0</td>\n",
       "      <td>2.0</td>\n",
       "      <td>2.0</td>\n",
       "      <td>3.0</td>\n",
       "      <td>1.0</td>\n",
       "      <td>0.0</td>\n",
       "      <td>0.0</td>\n",
       "      <td>2013</td>\n",
       "      <td>1</td>\n",
       "      <td>0</td>\n",
       "    </tr>\n",
       "  </tbody>\n",
       "</table>\n",
       "</div>"
      ],
      "text/plain": [
       "   Unnamed: 0  incident_id        date           state  n_killed  n_injured  \\\n",
       "0           0       461105  2013-01-01    Pennsylvania       0.0        4.0   \n",
       "1           1       460726  2013-01-01      California       1.0        3.0   \n",
       "2           2       478855  2013-01-01            Ohio       1.0        3.0   \n",
       "3           3       478925  2013-01-05        Colorado       4.0        0.0   \n",
       "4           4       478959  2013-01-07  North Carolina       2.0        2.0   \n",
       "\n",
       "   n_guns_involved  n_victims  n_suspects  n_unharmed  n_arrested  Year  \\\n",
       "0              0.0        4.0         1.0         0.0         1.0  2013   \n",
       "1              0.0        4.0         1.0         0.0         0.0  2013   \n",
       "2              2.0        3.0         2.0         2.0         2.0  2013   \n",
       "3              0.0        3.0         1.0         0.0         0.0  2013   \n",
       "4              2.0        3.0         1.0         0.0         0.0  2013   \n",
       "\n",
       "   Month  clusters  \n",
       "0      1         0  \n",
       "1      1         0  \n",
       "2      1         1  \n",
       "3      1         0  \n",
       "4      1         0  "
      ]
     },
     "execution_count": 57,
     "metadata": {},
     "output_type": "execute_result"
    }
   ],
   "source": [
    "df_gun_violence.head()"
   ]
  },
  {
   "cell_type": "code",
   "execution_count": 59,
   "id": "e2ee0d21",
   "metadata": {},
   "outputs": [
    {
     "data": {
      "text/plain": [
       "clusters\n",
       "0    141686\n",
       "1     97991\n",
       "Name: count, dtype: int64"
      ]
     },
     "execution_count": 59,
     "metadata": {},
     "output_type": "execute_result"
    }
   ],
   "source": [
    "df_gun_violence['clusters'].value_counts(dropna = False)"
   ]
  },
  {
   "cell_type": "markdown",
   "id": "17136b4b",
   "metadata": {},
   "source": [
    "# 08. Visualizations and Basic Descriptive Statistics"
   ]
  },
  {
   "cell_type": "code",
   "execution_count": 63,
   "id": "7253c8db",
   "metadata": {},
   "outputs": [
    {
     "data": {
      "text/plain": [
       "<Figure size 900x600 with 0 Axes>"
      ]
     },
     "metadata": {},
     "output_type": "display_data"
    },
    {
     "data": {
      "image/png": "[encoded data removed]",
      "text/plain": [
       "<Figure size 900x600 with 1 Axes>"
      ]
     },
     "metadata": {},
     "output_type": "display_data"
    }
   ],
   "source": [
    "# Plot the clusters for the \"n_killed\" and \"n_victims\" variables.\n",
    "\n",
    "plt.figure(figsize = (9, 6))\n",
    "ax = sns.scatterplot(x = df_gun_violence['n_killed'], y = df_gun_violence['n_victims'], \n",
    "                     hue = df_gun_violence['clusters'], s = 50) \n",
    "# 's' represents the size of the points you want to see in the plot.\n",
    "\n",
    "ax.grid(False) # This removes the grid from the background.\n",
    "plt.xlabel('n_killed') # Label x-axis.\n",
    "plt.ylabel('n_victims') # Label y-axis.\n",
    "plt.show()"
   ]
  },
  {
   "cell_type": "code",
   "execution_count": 65,
   "id": "8b7447be",
   "metadata": {},
   "outputs": [
    {
     "data": {
      "image/png": "[encoded data removed]",
      "text/plain": [
       "<Figure size 900x600 with 1 Axes>"
      ]
     },
     "metadata": {},
     "output_type": "display_data"
    }
   ],
   "source": [
    "# Plot the clusters for the \"n_arrested\" and \"n_suspects\" variables.\n",
    "\n",
    "plt.figure(figsize = (9, 6))\n",
    "ax = sns.scatterplot(x = df_gun_violence['n_arrested'], y = df_gun_violence['n_suspects'], \n",
    "                     hue = df_gun_violence['clusters'], s = 50) \n",
    "# 's' represents the size of the points you want to see in the plot.\n",
    "\n",
    "ax.grid(False) # This removes the grid from the background.\n",
    "plt.xlabel('n_arrested') # Label x-axis.\n",
    "plt.ylabel('n_suspects') # Label y-axis.\n",
    "plt.show()"
   ]
  },
  {
   "cell_type": "code",
   "execution_count": 67,
   "id": "ceaad34b",
   "metadata": {
    "jupyter": {
     "source_hidden": true
    }
   },
   "outputs": [],
   "source": [
    "df_gun_violence.loc[df_gun_violence['clusters'] == 0, 'cluster'] = 'blue'\n",
    "df_gun_violence.loc[df_gun_violence['clusters'] == 1, 'cluster'] = 'orange'"
   ]
  },
  {
   "cell_type": "code",
   "execution_count": 71,
   "id": "0f3cb9eb",
   "metadata": {},
   "outputs": [
    {
     "data": {
      "text/html": [
       "<div>\n",
       "<style scoped>\n",
       "    .dataframe tbody tr th:only-of-type {\n",
       "        vertical-align: middle;\n",
       "    }\n",
       "\n",
       "    .dataframe tbody tr th {\n",
       "        vertical-align: top;\n",
       "    }\n",
       "\n",
       "    .dataframe thead tr th {\n",
       "        text-align: left;\n",
       "    }\n",
       "\n",
       "    .dataframe thead tr:last-of-type th {\n",
       "        text-align: right;\n",
       "    }\n",
       "</style>\n",
       "<table border=\"1\" class=\"dataframe\">\n",
       "  <thead>\n",
       "    <tr>\n",
       "      <th></th>\n",
       "      <th colspan=\"2\" halign=\"left\">n_killed</th>\n",
       "      <th colspan=\"2\" halign=\"left\">n_victims</th>\n",
       "      <th colspan=\"2\" halign=\"left\">n_suspects</th>\n",
       "      <th colspan=\"2\" halign=\"left\">n_arrested</th>\n",
       "    </tr>\n",
       "    <tr>\n",
       "      <th></th>\n",
       "      <th>mean</th>\n",
       "      <th>median</th>\n",
       "      <th>mean</th>\n",
       "      <th>median</th>\n",
       "      <th>mean</th>\n",
       "      <th>median</th>\n",
       "      <th>mean</th>\n",
       "      <th>median</th>\n",
       "    </tr>\n",
       "    <tr>\n",
       "      <th>cluster</th>\n",
       "      <th></th>\n",
       "      <th></th>\n",
       "      <th></th>\n",
       "      <th></th>\n",
       "      <th></th>\n",
       "      <th></th>\n",
       "      <th></th>\n",
       "      <th></th>\n",
       "    </tr>\n",
       "  </thead>\n",
       "  <tbody>\n",
       "    <tr>\n",
       "      <th>blue</th>\n",
       "      <td>0.324372</td>\n",
       "      <td>0.0</td>\n",
       "      <td>0.977662</td>\n",
       "      <td>1.0</td>\n",
       "      <td>0.331564</td>\n",
       "      <td>0.0</td>\n",
       "      <td>0.053343</td>\n",
       "      <td>0.0</td>\n",
       "    </tr>\n",
       "    <tr>\n",
       "      <th>orange</th>\n",
       "      <td>0.148065</td>\n",
       "      <td>0.0</td>\n",
       "      <td>0.556572</td>\n",
       "      <td>0.0</td>\n",
       "      <td>1.554071</td>\n",
       "      <td>1.0</td>\n",
       "      <td>0.936566</td>\n",
       "      <td>1.0</td>\n",
       "    </tr>\n",
       "  </tbody>\n",
       "</table>\n",
       "</div>"
      ],
      "text/plain": [
       "         n_killed        n_victims        n_suspects        n_arrested       \n",
       "             mean median      mean median       mean median       mean median\n",
       "cluster                                                                      \n",
       "blue     0.324372    0.0  0.977662    1.0   0.331564    0.0   0.053343    0.0\n",
       "orange   0.148065    0.0  0.556572    0.0   1.554071    1.0   0.936566    1.0"
      ]
     },
     "execution_count": 71,
     "metadata": {},
     "output_type": "execute_result"
    }
   ],
   "source": [
    "# Basic descriptive statistics for each cluster\n",
    "df_gun_violence.groupby('cluster').agg({'n_killed':['mean', 'median'], \n",
    "                                    'n_victims':['mean', 'median'], \n",
    "                                    'n_suspects':['mean', 'median'],\n",
    "                                    'n_arrested':['mean', 'median']})"
   ]
  },
  {
   "cell_type": "markdown",
   "id": "a08bea2b",
   "metadata": {},
   "source": [
    "Interpretion\n",
    "1. Blue Cluster\n",
    "\n",
    "Lower number of suspects (0.33 on average, median = 0)\n",
    "Fewer arrests (mean = 0.053, median = 0)\n",
    "Higher victim count than the orange cluster (mean = 0.98, median = 1)\n",
    "Higher deaths compared to orange (mean = 0.324, median = 0)\n",
    "This might represent incidents with fewer suspects and arrests but more casualties.\n",
    "\n",
    "2. Orange Cluster\n",
    "\n",
    "Higher number of suspects (1.55 mean, median = 1)\n",
    "More arrests (0.94 mean, median = 1)\n",
    "Fewer victims on average (0.56 mean, median = 0)\n",
    "Lower deaths than the blue cluster (0.148 mean, median = 0)\n",
    "This might represent incidents where more suspects are involved, leading to more arrests but fewer casualties."
   ]
  },
  {
   "cell_type": "markdown",
   "id": "3f55bebe",
   "metadata": {},
   "source": [
    "# 09. Discussion"
   ]
  },
  {
   "attachments": {},
   "cell_type": "markdown",
   "id": "d9e9e3cc",
   "metadata": {},
   "source": [
    "From the previous exploratory visual analysis, we have hypotheses as below: \n",
    "\n",
    "The blue cluster might represent deadlier incidents with fewer suspects and arrests (e.g., lone shooters or single-perpetrator crimes).\n",
    "\n",
    "The orange cluster has more suspects and arrests, suggesting group crimes or gang-related violence, but with fewer fatalities."
   ]
  },
  {
   "cell_type": "code",
   "execution_count": null,
   "id": "ce5b074f-00eb-46f8-8535-5a146c865b49",
   "metadata": {},
   "outputs": [],
   "source": []
  }
 ],
 "metadata": {
  "kernelspec": {
   "display_name": "Python [conda env:base] *",
   "language": "python",
   "name": "conda-base-py"
  },
  "language_info": {
   "codemirror_mode": {
    "name": "ipython",
    "version": 3
   },
   "file_extension": ".py",
   "mimetype": "text/x-python",
   "name": "python",
   "nbconvert_exporter": "python",
   "pygments_lexer": "ipython3",
   "version": "3.12.7"
  },
  "varInspector": {
   "cols": {
    "lenName": 16,
    "lenType": 16,
    "lenVar": 40
   },
   "kernels_config": {
    "python": {
     "delete_cmd_postfix": "",
     "delete_cmd_prefix": "del ",
     "library": "var_list.py",
     "varRefreshCmd": "print(var_dic_list())"
    },
    "r": {
     "delete_cmd_postfix": ") ",
     "delete_cmd_prefix": "rm(",
     "library": "var_list.r",
     "varRefreshCmd": "cat(var_dic_list()) "
    }
   },
   "types_to_exclude": [
    "module",
    "function",
    "builtin_function_or_method",
    "instance",
    "_Feature"
   ],
   "window_display": false
  }
 },
 "nbformat": 4,
 "nbformat_minor": 5
}
